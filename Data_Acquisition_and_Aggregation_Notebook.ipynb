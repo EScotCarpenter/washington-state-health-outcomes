{
 "cells": [
  {
   "cell_type": "markdown",
   "id": "0ede62eb",
   "metadata": {},
   "source": [
    "# Data Acquisition and Aggregation"
   ]
  },
  {
   "cell_type": "markdown",
   "id": "694bdc77",
   "metadata": {},
   "source": [
    "This notebook is to be used to show the process taken in extracting and aggregating the desired data from Excel spreadsheets contained in the `data_files` folder and written to the `aggregated_data` folder."
   ]
  },
  {
   "cell_type": "markdown",
   "id": "d0bd5598",
   "metadata": {},
   "source": [
    "## Imports and Constants"
   ]
  },
  {
   "cell_type": "code",
   "execution_count": 1,
   "id": "c7f01600",
   "metadata": {},
   "outputs": [],
   "source": [
    "import os            # Access individual files inside of directories.\n",
    "import openpyxl      # Enables ability to read Excel Spreadsheets.\n",
    "import xlrd          # Enables ability to read specific Excel Spreadsheets.\n",
    "import pandas as pd  # Creates dataframes to store data and write to csv files.\n",
    "\n",
    "DIRECTORY = 'data_files'  # Directory where spreadsheets are located."
   ]
  },
  {
   "cell_type": "markdown",
   "id": "690d21f0",
   "metadata": {},
   "source": [
    "## Defined Functions"
   ]
  },
  {
   "cell_type": "code",
   "execution_count": 2,
   "id": "df5e7f85",
   "metadata": {},
   "outputs": [],
   "source": [
    "def getData(filename, sheetname, headercols, dfcols):\n",
    "    \"\"\"\n",
    "    Accesses the file and determines the engine to use to parse data.\n",
    "    Uses the name of the sheet and name of the header to access data.\n",
    "    Then creates and returns a dataframe with desired column names.\n",
    "    \"\"\"\n",
    "    # Logic to get data from different excel files type.\n",
    "    if filename.endswith('.xls'):\n",
    "        data = pd.ExcelFile(filename, engine='xlrd')\n",
    "    else:\n",
    "        data = pd.ExcelFile(filename, engine='openpyxl')\n",
    "    \n",
    "    # Parse the spreadsheet, skipping the row that has only the state.\n",
    "    data_s = data.parse(sheetname, header=[0, 1], skiprows=[2])\n",
    "    data_s.head()\n",
    "    \n",
    "    # This into the headers and then the columns.\n",
    "    data_sub = data_s[headercols]\n",
    "    # This sets the names of the columns without the headers.\n",
    "    data_sub.columns = dfcols\n",
    "    \n",
    "    return data_sub\n",
    "\n",
    "def toColInt(df, cols):\n",
    "    \"\"\"\n",
    "    Takes in a Pandas dataframe and a list of column names.\n",
    "    Then returns a dataframe with the columns converted to integers and\n",
    "    NaN values changed to 0.\n",
    "    \"\"\"\n",
    "    # For loop to iterate through the column names and convert to integers.\n",
    "    for c in cols:\n",
    "        df[c] = df[c].fillna(0).astype('int')\n",
    "        \n",
    "    return df\n",
    "\n",
    "def toColFloat(df, cols):\n",
    "    \"\"\"\n",
    "    Takes in a Pandas dataframe and a list of column names.\n",
    "    Then returns a dataframe with the column converted to floats and \n",
    "    NaN values changed to 0.\n",
    "    \"\"\"\n",
    "    # For loop to iterate through the column names and convert to floats.\n",
    "    for c in cols:\n",
    "        df[c] = df[c].fillna(0).astype('float')\n",
    "        \n",
    "    return df\n",
    "\n",
    "def parseData(filename, sheetname, headercols, dfcols, intcols=[], fcols=[]):\n",
    "    \"\"\"\n",
    "    Invokes the getData, toColInt, and toColFloat to get data from desired spreadsheet\n",
    "    and convert the columns to appropriate data types. Then returns a Pandas dataframe.\n",
    "    \"\"\"\n",
    "    df = getData(filename, sheetname, headercols, dfcols)\n",
    "    df = toColInt(df, intcols)\n",
    "    df = toColFloat(df,fcols)\n",
    "    \n",
    "    return df\n",
    "\n",
    "\n",
    "def combineData(directory, sheetname, headercols, dfcols, start_year, end_year, intcols = [], fcols = []):\n",
    "    \"\"\"\n",
    "    Parses through multiple desired spreadsheets then extracts and aggregates the data into a single \n",
    "    Pandas dataframe.\n",
    "    \"\"\"\n",
    "    # Initialize list to store dataframes.\n",
    "    dataframes = []\n",
    "    \n",
    "    # For loop to iterate through directory.\n",
    "    for file in os.listdir(directory):\n",
    "        # Skip non-excel files.\n",
    "        if not file.endswith('xls') and not file.endswith('.xlsx'):\n",
    "            continue\n",
    "        # Get file path.\n",
    "        filepath = os.path.join(directory, file)\n",
    "        # Extract the year from the file.\n",
    "        year = int(file.split()[0])\n",
    "        # Logic for data range.\n",
    "        if start_year <= year <= end_year:\n",
    "            # Create dataframe.\n",
    "            df = parseData(filepath, sheetname, headercols, dfcols, intcols, fcols)\n",
    "            # Get a list of columns to then insert year into the 3 position.\n",
    "            cols = list(df.columns)\n",
    "            cols.insert(2, 'Year')\n",
    "            df = df.reindex(columns = cols)\n",
    "            # Add value to Year.\n",
    "            df['Year'] = year\n",
    "            # Add dataframe to list.\n",
    "            dataframes.append(df)\n",
    "        \n",
    "            # Combine all the dataframes into one.\n",
    "            combined_df = pd.concat(dataframes, ignore_index = True)\n",
    "        \n",
    "    return combined_df"
   ]
  },
  {
   "cell_type": "markdown",
   "id": "ec43e829",
   "metadata": {},
   "source": [
    "## Extract Data from Excel Spreadsheets"
   ]
  },
  {
   "cell_type": "markdown",
   "id": "aafc6237",
   "metadata": {},
   "source": [
    "### Outcomes and Factor Rankings"
   ]
  },
  {
   "cell_type": "code",
   "execution_count": 3,
   "id": "98873d25",
   "metadata": {},
   "outputs": [],
   "source": [
    "# Initialize desired sheetname, data to extract, year range, and name of output csv file name.\n",
    "sheetName = 'Outcomes & Factors Rankings'\n",
    "headerCols = [\n",
    "        ('Unnamed: 0_level_0', 'FIPS'),\n",
    "        ('Unnamed: 2_level_0', 'County'),\n",
    "        ('Health Outcomes', 'Rank')\n",
    "    ]\n",
    "dfCols = ['FIPS', 'County', 'Rank']\n",
    "startYear = 2015\n",
    "endYear = 2023\n",
    "outputCSV = f'aggregated_data/Washington_Health_Outcome_Rankings_{startYear}-{endYear}.csv'\n",
    "\n",
    "# Create dataframe with aggregated data.\n",
    "rankings = combineData(DIRECTORY, sheetName, headerCols, dfCols, startYear, endYear)\n",
    "\n",
    "# Write dataframe to csv.\n",
    "rankings.to_csv(outputCSV, index = False)"
   ]
  },
  {
   "cell_type": "markdown",
   "id": "300b26f1",
   "metadata": {},
   "source": [
    "### Ranked Measure Data"
   ]
  },
  {
   "cell_type": "code",
   "execution_count": 4,
   "id": "a924eeaa",
   "metadata": {},
   "outputs": [],
   "source": [
    "# Initialize desired sheetname, data to extract, year range, and name of output csv file name.\n",
    "sheetName = 'Ranked Measure Data'\n",
    "headerCols = [\n",
    "        ('Unnamed: 0_level_0', 'FIPS'),\n",
    "        ('Unnamed: 2_level_0', 'County'),\n",
    "        ('Poor physical health days', 'Physically Unhealthy Days'),\n",
    "        ('Poor mental health days', 'Mentally Unhealthy Days'),\n",
    "        ('Adult smoking', '% Smokers'),\n",
    "        ('Adult obesity', '% Obese'),\n",
    "        ('Physical inactivity', '% Physically Inactive'),\n",
    "        ('Access to exercise opportunities', '% With Access'),\n",
    "        ('Excessive drinking', '% Excessive Drinking'),\n",
    "        ('Teen births', 'Teen Birth Rate'),\n",
    "        ('Uninsured', '% Uninsured'),\n",
    "        ('Preventable hospital stays', 'Preventable Hospitalization Rate'),\n",
    "        ('Some college', '% Some College'),\n",
    "        ('Unemployment', '% Unemployed'),\n",
    "        ('Children in poverty', '% Children in Poverty'),\n",
    "        ('Income inequality', '80th Percentile Income'),\n",
    "        ('Income inequality', '20th Percentile Income'),\n",
    "        ('Income inequality', 'Income Ratio'),\n",
    "        ('Children in single-parent households', '% Single-Parent Households'),\n",
    "        ('Injury deaths', 'Injury Death Rate')\n",
    "    ]\n",
    "dfCols = ['FIPS', 'County', 'Physically Unhealthy Days', 'Mentally Unhealthy Days',\n",
    "         '% Smokers', '% Obese', '% Physically Inactive', '% Exercise Access',\n",
    "         '% Excessive Drinking','Teen Birth Rate', '% Uninsured', 'Preventable Hospitalization Rate', \n",
    "          '% Some College', '% Unemployed', '% Children in Poverty', '80th Percentile Income',\n",
    "          '20th Percentile Income', 'Income Ratio', '% Single-Parent Households', 'Injury Death Rate',\n",
    "         ]\n",
    "startYear = 2015\n",
    "endYear = 2023\n",
    "outputCSV = f'aggregated_data/Washington_Ranked_Measure_Data_{startYear}-{endYear}.csv'\n",
    "\n",
    "intCols = ['FIPS', '80th Percentile Income', '20th Percentile Income']\n",
    "fCols = ['Physically Unhealthy Days', 'Mentally Unhealthy Days', '% Smokers', '% Obese',\n",
    "         '% Physically Inactive', '% Exercise Access', '% Excessive Drinking', 'Teen Birth Rate', \n",
    "         '% Uninsured', 'Preventable Hospitalization Rate', '% Some College', '% Unemployed', \n",
    "         '% Children in Poverty','Income Ratio', '% Single-Parent Households', 'Injury Death Rate']\n",
    " \n",
    "\n",
    "# Create dataframe with aggregated data.\n",
    "measures = combineData(DIRECTORY, sheetName, headerCols, dfCols, startYear, endYear, intCols, fCols)\n",
    "\n",
    "# Write dataframe to csv.\n",
    "measures.to_csv(outputCSV, index = False)"
   ]
  },
  {
   "cell_type": "markdown",
   "id": "40db79e8",
   "metadata": {},
   "source": [
    "## Population"
   ]
  },
  {
   "cell_type": "code",
   "execution_count": 5,
   "id": "59b151f0",
   "metadata": {},
   "outputs": [],
   "source": [
    "# Old format\n",
    "sheetName = 'Additional Measure Data'\n",
    "startYear = 2015\n",
    "endYear = 2020\n",
    "\n",
    "headerCols = [\n",
    "    ('Unnamed: 0_level_0', 'FIPS'),\n",
    "    ('Unnamed: 2_level_0', 'County'),\n",
    "    ('Demographics', 'Population')    \n",
    "]\n",
    "dfCols = ['FIPS', 'County', 'Population']\n",
    "\n",
    "intCols = ['FIPS', 'Population']\n",
    "fCols = []\n",
    "\n",
    "oldPopCSV = f'aggregated_data/Washington_Population_Data_{startYear}-{endYear}.csv'\n",
    "\n",
    "# Create Dataframe with aggregated data.\n",
    "oldPop = combineData(DIRECTORY, sheetName, headerCols, dfCols, startYear, endYear, intCols, fCols)\n",
    "\n",
    "# Write dataframe to csv.\n",
    "oldPop.to_csv(oldPopCSV, index = False)"
   ]
  },
  {
   "cell_type": "code",
   "execution_count": 6,
   "id": "ee62a938",
   "metadata": {},
   "outputs": [],
   "source": [
    "# Get population new format\n",
    "sheetName = 'Additional Measure Data'\n",
    "startYear = 2021\n",
    "endYear = 2023\n",
    "\n",
    "headerCols = [\n",
    "    ('Unnamed: 0_level_0', 'FIPS'),\n",
    "    ('Unnamed: 2_level_0', 'County'),\n",
    "    ('Population', 'Population')\n",
    "] \n",
    "dfCols = ['FIPS', 'County', 'Population']\n",
    "intCols = ['FIPS', 'Population']\n",
    "fCols = []\n",
    "\n",
    "newPopCSV = f'aggregated_data/Washington_Population_Data_{startYear}-{endYear}.csv'\n",
    "\n",
    "# Create Dataframe with aggregated data.\n",
    "newPop = combineData(DIRECTORY, sheetName, headerCols, dfCols, startYear, endYear, intCols, fCols)\n",
    "\n",
    "# Write dataframe to csv.\n",
    "newPop.to_csv(newPopCSV, index = False)"
   ]
  },
  {
   "cell_type": "code",
   "execution_count": 7,
   "id": "33752a3b",
   "metadata": {},
   "outputs": [],
   "source": [
    "# Combine the csv files.\n",
    "combinedPopCSV = 'aggregated_data/Washington_Population_Data_2015-2023.csv'\n",
    "oldDF = pd.read_csv(oldPopCSV)\n",
    "newDF = pd.read_csv(newPopCSV)\n",
    "\n",
    "allDF = pd.concat([oldDF, newDF], ignore_index = True)\n",
    "\n",
    "allDF.to_csv(combinedPopCSV, index = False)"
   ]
  }
 ],
 "metadata": {
  "kernelspec": {
   "display_name": "Python 3 (ipykernel)",
   "language": "python",
   "name": "python3"
  },
  "language_info": {
   "codemirror_mode": {
    "name": "ipython",
    "version": 3
   },
   "file_extension": ".py",
   "mimetype": "text/x-python",
   "name": "python",
   "nbconvert_exporter": "python",
   "pygments_lexer": "ipython3",
   "version": "3.10.9"
  }
 },
 "nbformat": 4,
 "nbformat_minor": 5
}
